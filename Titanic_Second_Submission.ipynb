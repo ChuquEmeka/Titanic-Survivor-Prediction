{
  "cells": [
    {
      "cell_type": "markdown",
      "metadata": {
        "id": "view-in-github",
        "colab_type": "text"
      },
      "source": [
        "<a href=\"https://colab.research.google.com/github/ChuquEmeka/Titanic-Survivor-Prediction/blob/main/Titanic_Second_Submission.ipynb\" target=\"_parent\"><img src=\"https://colab.research.google.com/assets/colab-badge.svg\" alt=\"Open In Colab\"/></a>"
      ]
    },
    {
      "cell_type": "markdown",
      "id": "eb8f0183",
      "metadata": {
        "id": "eb8f0183"
      },
      "source": [
        "### Titanic Competition Presented By Edeh Emeka N. (Second Submission)\n",
        "\n",
        "\n",
        "#### **The Challenge**\n",
        "The sinking of the Titanic is one of the most infamous shipwrecks in history.\n",
        "\n",
        "On April 15, 1912, during her maiden voyage, the widely considered “unsinkable” RMS Titanic sank after colliding with an iceberg. Unfortunately, there weren’t enough lifeboats for everyone onboard, resulting in the death of 1502 out of 2224 passengers and crew.\n",
        "\n",
        "While there was some element of luck involved in surviving, it seems some groups of people were more likely to survive than others.\n",
        "\n",
        "In this challenge, we ask you to build a predictive model that answers the question: **“what sorts of people were more likely to survive?”** using passenger data (ie name, age, gender, socio-economic class, etc)."
      ]
    },
    {
      "cell_type": "code",
      "execution_count": null,
      "id": "5d6d4a4e",
      "metadata": {
        "id": "5d6d4a4e"
      },
      "outputs": [],
      "source": [
        "import pandas as pd\n",
        "import numpy as np\n",
        "import seaborn as sns\n",
        "import matplotlib.pyplot as plt\n",
        "import math\n",
        "%matplotlib inline"
      ]
    },
    {
      "cell_type": "code",
      "execution_count": null,
      "id": "4ac889af",
      "metadata": {
        "id": "4ac889af"
      },
      "outputs": [],
      "source": [
        "titanic_train = pd.read_csv(\"titanic_train_dataset.csv\")\n",
        "titanic_test = pd.read_csv(\"titanic_test_dataset.csv\")\n",
        "test_ids = titanic_test[\"PassengerId\"]"
      ]
    },
    {
      "cell_type": "code",
      "execution_count": null,
      "id": "16ee75aa",
      "metadata": {
        "id": "16ee75aa",
        "outputId": "98d592f3-2a75-48ec-ef9d-4766c7083242"
      },
      "outputs": [
        {
          "data": {
            "text/html": [
              "<div>\n",
              "<style scoped>\n",
              "    .dataframe tbody tr th:only-of-type {\n",
              "        vertical-align: middle;\n",
              "    }\n",
              "\n",
              "    .dataframe tbody tr th {\n",
              "        vertical-align: top;\n",
              "    }\n",
              "\n",
              "    .dataframe thead th {\n",
              "        text-align: right;\n",
              "    }\n",
              "</style>\n",
              "<table border=\"1\" class=\"dataframe\">\n",
              "  <thead>\n",
              "    <tr style=\"text-align: right;\">\n",
              "      <th></th>\n",
              "      <th>PassengerId</th>\n",
              "      <th>Survived</th>\n",
              "      <th>Pclass</th>\n",
              "      <th>Name</th>\n",
              "      <th>Sex</th>\n",
              "      <th>Age</th>\n",
              "      <th>SibSp</th>\n",
              "      <th>Parch</th>\n",
              "      <th>Ticket</th>\n",
              "      <th>Fare</th>\n",
              "      <th>Cabin</th>\n",
              "      <th>Embarked</th>\n",
              "    </tr>\n",
              "  </thead>\n",
              "  <tbody>\n",
              "    <tr>\n",
              "      <th>0</th>\n",
              "      <td>1</td>\n",
              "      <td>0</td>\n",
              "      <td>3</td>\n",
              "      <td>Braund, Mr. Owen Harris</td>\n",
              "      <td>male</td>\n",
              "      <td>22.0</td>\n",
              "      <td>1</td>\n",
              "      <td>0</td>\n",
              "      <td>A/5 21171</td>\n",
              "      <td>7.2500</td>\n",
              "      <td>NaN</td>\n",
              "      <td>S</td>\n",
              "    </tr>\n",
              "    <tr>\n",
              "      <th>1</th>\n",
              "      <td>2</td>\n",
              "      <td>1</td>\n",
              "      <td>1</td>\n",
              "      <td>Cumings, Mrs. John Bradley (Florence Briggs Th...</td>\n",
              "      <td>female</td>\n",
              "      <td>38.0</td>\n",
              "      <td>1</td>\n",
              "      <td>0</td>\n",
              "      <td>PC 17599</td>\n",
              "      <td>71.2833</td>\n",
              "      <td>C85</td>\n",
              "      <td>C</td>\n",
              "    </tr>\n",
              "    <tr>\n",
              "      <th>2</th>\n",
              "      <td>3</td>\n",
              "      <td>1</td>\n",
              "      <td>3</td>\n",
              "      <td>Heikkinen, Miss. Laina</td>\n",
              "      <td>female</td>\n",
              "      <td>26.0</td>\n",
              "      <td>0</td>\n",
              "      <td>0</td>\n",
              "      <td>STON/O2. 3101282</td>\n",
              "      <td>7.9250</td>\n",
              "      <td>NaN</td>\n",
              "      <td>S</td>\n",
              "    </tr>\n",
              "    <tr>\n",
              "      <th>3</th>\n",
              "      <td>4</td>\n",
              "      <td>1</td>\n",
              "      <td>1</td>\n",
              "      <td>Futrelle, Mrs. Jacques Heath (Lily May Peel)</td>\n",
              "      <td>female</td>\n",
              "      <td>35.0</td>\n",
              "      <td>1</td>\n",
              "      <td>0</td>\n",
              "      <td>113803</td>\n",
              "      <td>53.1000</td>\n",
              "      <td>C123</td>\n",
              "      <td>S</td>\n",
              "    </tr>\n",
              "    <tr>\n",
              "      <th>4</th>\n",
              "      <td>5</td>\n",
              "      <td>0</td>\n",
              "      <td>3</td>\n",
              "      <td>Allen, Mr. William Henry</td>\n",
              "      <td>male</td>\n",
              "      <td>35.0</td>\n",
              "      <td>0</td>\n",
              "      <td>0</td>\n",
              "      <td>373450</td>\n",
              "      <td>8.0500</td>\n",
              "      <td>NaN</td>\n",
              "      <td>S</td>\n",
              "    </tr>\n",
              "  </tbody>\n",
              "</table>\n",
              "</div>"
            ],
            "text/plain": [
              "   PassengerId  Survived  Pclass  \\\n",
              "0            1         0       3   \n",
              "1            2         1       1   \n",
              "2            3         1       3   \n",
              "3            4         1       1   \n",
              "4            5         0       3   \n",
              "\n",
              "                                                Name     Sex   Age  SibSp  \\\n",
              "0                            Braund, Mr. Owen Harris    male  22.0      1   \n",
              "1  Cumings, Mrs. John Bradley (Florence Briggs Th...  female  38.0      1   \n",
              "2                             Heikkinen, Miss. Laina  female  26.0      0   \n",
              "3       Futrelle, Mrs. Jacques Heath (Lily May Peel)  female  35.0      1   \n",
              "4                           Allen, Mr. William Henry    male  35.0      0   \n",
              "\n",
              "   Parch            Ticket     Fare Cabin Embarked  \n",
              "0      0         A/5 21171   7.2500   NaN        S  \n",
              "1      0          PC 17599  71.2833   C85        C  \n",
              "2      0  STON/O2. 3101282   7.9250   NaN        S  \n",
              "3      0            113803  53.1000  C123        S  \n",
              "4      0            373450   8.0500   NaN        S  "
            ]
          },
          "execution_count": 70,
          "metadata": {},
          "output_type": "execute_result"
        }
      ],
      "source": [
        "titanic_train.head()"
      ]
    },
    {
      "cell_type": "markdown",
      "id": "36014c4e",
      "metadata": {
        "id": "36014c4e"
      },
      "source": [
        "## EDA (Understanding the given train dataset)"
      ]
    },
    {
      "cell_type": "code",
      "execution_count": null,
      "id": "4d83c5d5",
      "metadata": {
        "id": "4d83c5d5",
        "outputId": "6de71596-ab7e-4128-c283-d44d43b22bb1"
      },
      "outputs": [
        {
          "data": {
            "text/plain": [
              "(891, 12)"
            ]
          },
          "execution_count": 71,
          "metadata": {},
          "output_type": "execute_result"
        }
      ],
      "source": [
        "titanic_train.shape\n",
        "#to briefly see the number of rows and columns in my train dataset"
      ]
    },
    {
      "cell_type": "code",
      "execution_count": null,
      "id": "182779dc",
      "metadata": {
        "id": "182779dc",
        "outputId": "81abb45c-a21e-4ae1-d070-a62510317cfb"
      },
      "outputs": [
        {
          "data": {
            "text/plain": [
              "0    549\n",
              "1    342\n",
              "Name: Survived, dtype: int64"
            ]
          },
          "execution_count": 72,
          "metadata": {},
          "output_type": "execute_result"
        }
      ],
      "source": [
        "#i will further get the frquency or count of the survivors to non survivors\n",
        "titanic_train['Survived'].value_counts()"
      ]
    },
    {
      "cell_type": "code",
      "execution_count": null,
      "id": "98602006",
      "metadata": {
        "id": "98602006",
        "outputId": "1fa5c645-fd4e-4f5c-f0e3-5b820b3828ee"
      },
      "outputs": [
        {
          "data": {
            "text/plain": [
              "<AxesSubplot:xlabel='Survived', ylabel='count'>"
            ]
          },
          "execution_count": 73,
          "metadata": {},
          "output_type": "execute_result"
        },
        {
          "data": {
            "image/png": "[encoded data removed]",
            "text/plain": [
              "<Figure size 432x288 with 1 Axes>"
            ]
          },
          "metadata": {
            "needs_background": "light"
          },
          "output_type": "display_data"
        }
      ],
      "source": [
        "#i can plot the above outcome using the seaborn library\n",
        "sns.countplot(x = \"Survived\", data = titanic_train)"
      ]
    },
    {
      "cell_type": "markdown",
      "id": "c1cdc6ad",
      "metadata": {
        "id": "c1cdc6ad"
      },
      "source": [
        "**From the above plot, 549 passangers of the train dataset died while 342 passangers survived**"
      ]
    },
    {
      "cell_type": "code",
      "execution_count": null,
      "id": "666cbd66",
      "metadata": {
        "id": "666cbd66",
        "outputId": "4f8a09cd-3494-4af6-9b85-ac210e8a4d10"
      },
      "outputs": [
        {
          "data": {
            "text/plain": [
              "3    491\n",
              "1    216\n",
              "2    184\n",
              "Name: Pclass, dtype: int64"
            ]
          },
          "execution_count": 74,
          "metadata": {},
          "output_type": "execute_result"
        }
      ],
      "source": [
        "#similarly, i will determine the number of passangers in each class and also plot my result\n",
        "titanic_train['Pclass'].value_counts()"
      ]
    },
    {
      "cell_type": "code",
      "execution_count": null,
      "id": "1dd94e76",
      "metadata": {
        "id": "1dd94e76",
        "outputId": "e6851de2-f56f-47f1-d079-e08435268b28"
      },
      "outputs": [
        {
          "data": {
            "text/plain": [
              "<AxesSubplot:xlabel='Pclass', ylabel='count'>"
            ]
          },
          "execution_count": 75,
          "metadata": {},
          "output_type": "execute_result"
        },
        {
          "data": {
            "image/png": "[encoded data removed]",
            "text/plain": [
              "<Figure size 432x288 with 1 Axes>"
            ]
          },
          "metadata": {
            "needs_background": "light"
          },
          "output_type": "display_data"
        }
      ],
      "source": [
        "sns.countplot(x = \"Pclass\", data = titanic_train)"
      ]
    },
    {
      "cell_type": "markdown",
      "id": "7fcc003d",
      "metadata": {
        "id": "7fcc003d"
      },
      "source": [
        "**From the above barplot, we have majority of the passangers(491) in the 3rd class**"
      ]
    },
    {
      "cell_type": "code",
      "execution_count": null,
      "id": "7aa91f6b",
      "metadata": {
        "id": "7aa91f6b",
        "outputId": "1fc4f527-8ec2-4c24-b9ce-bca9b05ed323"
      },
      "outputs": [
        {
          "data": {
            "text/plain": [
              "male      577\n",
              "female    314\n",
              "Name: Sex, dtype: int64"
            ]
          },
          "execution_count": 76,
          "metadata": {},
          "output_type": "execute_result"
        }
      ],
      "source": [
        "#Determining the number of males and females in the train dataset\n",
        "titanic_train['Sex'].value_counts()"
      ]
    },
    {
      "cell_type": "code",
      "execution_count": null,
      "id": "2ede6f8c",
      "metadata": {
        "id": "2ede6f8c",
        "outputId": "1119163b-280b-4018-9051-a9a8ac9143df"
      },
      "outputs": [
        {
          "data": {
            "text/plain": [
              "<AxesSubplot:xlabel='Sex', ylabel='count'>"
            ]
          },
          "execution_count": 77,
          "metadata": {},
          "output_type": "execute_result"
        },
        {
          "data": {
            "image/png": "[encoded data removed]",
            "text/plain": [
              "<Figure size 432x288 with 1 Axes>"
            ]
          },
          "metadata": {
            "needs_background": "light"
          },
          "output_type": "display_data"
        }
      ],
      "source": [
        "sns.countplot(x = \"Sex\", data = titanic_train)"
      ]
    },
    {
      "cell_type": "markdown",
      "id": "c3aa9c78",
      "metadata": {
        "id": "c3aa9c78"
      },
      "source": [
        "**We have 577 males and 314 females in the train dataset**"
      ]
    },
    {
      "cell_type": "code",
      "execution_count": null,
      "id": "45a0b1aa",
      "metadata": {
        "id": "45a0b1aa",
        "outputId": "7ff58957-5779-4ee9-e82e-0a3700dce65c"
      },
      "outputs": [
        {
          "data": {
            "text/plain": [
              "<AxesSubplot:xlabel='Age', ylabel='Count'>"
            ]
          },
          "execution_count": 78,
          "metadata": {},
          "output_type": "execute_result"
        },
        {
          "data": {
            "image/png": "[encoded data removed]",
            "text/plain": [
              "<Figure size 432x288 with 1 Axes>"
            ]
          },
          "metadata": {
            "needs_background": "light"
          },
          "output_type": "display_data"
        }
      ],
      "source": [
        "#To check for the age distribution, i will use a histogram since i am considering the \"Age\" variable which is a continues data\n",
        "sns.histplot(x = \"Age\", data = titanic_train)"
      ]
    },
    {
      "cell_type": "markdown",
      "id": "d3882e58",
      "metadata": {
        "id": "d3882e58"
      },
      "source": [
        "**From the above distribution, majority of the passangers are betweent the ages of 20 and 35.**"
      ]
    },
    {
      "cell_type": "code",
      "execution_count": null,
      "id": "28661db2",
      "metadata": {
        "id": "28661db2"
      },
      "outputs": [],
      "source": [
        ""
      ]
    },
    {
      "cell_type": "markdown",
      "id": "29278f24",
      "metadata": {
        "id": "29278f24"
      },
      "source": [
        "## Data Wrangling/Cleaning"
      ]
    },
    {
      "cell_type": "markdown",
      "id": "c2b563b7",
      "metadata": {
        "id": "c2b563b7"
      },
      "source": [
        "I will be dropping columns that i believe wouldn't be detaminants of if a passanger survived or not.  \n",
        "the PassangerId, Ticket, Cabin and Name columns will be dropped while the missing values in the age, SibSp, Parch and Fare will be replaced with their respective column averages. The missing values in the \"Embarked\" column will be replaced with \"U\" which stands for unkown. This cleaning will be done on both datasets."
      ]
    },
    {
      "cell_type": "code",
      "execution_count": null,
      "id": "b8b55efd",
      "metadata": {
        "id": "b8b55efd"
      },
      "outputs": [],
      "source": [
        "#I will create a data cleaning function\n",
        "def clean_data(titanic_train):\n",
        "    titanic_train= titanic_train.drop(['PassengerId', 'Ticket', 'Cabin', 'Name'], axis=1)\n",
        "    \n",
        "    columns = ['SibSp', 'Parch', 'Fare', 'Age']\n",
        "    for col in columns:\n",
        "        titanic_train[col].fillna(titanic_train[col].mean(), inplace=True)\n",
        "    \n",
        "    titanic_train.Embarked.fillna('U', inplace=True)\n",
        "    return titanic_train\n",
        "\n",
        "clean_train = clean_data(titanic_train)\n",
        "clean_test = clean_data(titanic_test)\n",
        "    "
      ]
    },
    {
      "cell_type": "code",
      "execution_count": null,
      "id": "ca58930f",
      "metadata": {
        "id": "ca58930f",
        "outputId": "c17e3462-d61f-4d4f-c2b5-8129a0d3c7d8"
      },
      "outputs": [
        {
          "data": {
            "text/html": [
              "<div>\n",
              "<style scoped>\n",
              "    .dataframe tbody tr th:only-of-type {\n",
              "        vertical-align: middle;\n",
              "    }\n",
              "\n",
              "    .dataframe tbody tr th {\n",
              "        vertical-align: top;\n",
              "    }\n",
              "\n",
              "    .dataframe thead th {\n",
              "        text-align: right;\n",
              "    }\n",
              "</style>\n",
              "<table border=\"1\" class=\"dataframe\">\n",
              "  <thead>\n",
              "    <tr style=\"text-align: right;\">\n",
              "      <th></th>\n",
              "      <th>Survived</th>\n",
              "      <th>Pclass</th>\n",
              "      <th>Sex</th>\n",
              "      <th>Age</th>\n",
              "      <th>SibSp</th>\n",
              "      <th>Parch</th>\n",
              "      <th>Fare</th>\n",
              "      <th>Embarked</th>\n",
              "    </tr>\n",
              "  </thead>\n",
              "  <tbody>\n",
              "    <tr>\n",
              "      <th>0</th>\n",
              "      <td>0</td>\n",
              "      <td>3</td>\n",
              "      <td>male</td>\n",
              "      <td>22.0</td>\n",
              "      <td>1</td>\n",
              "      <td>0</td>\n",
              "      <td>7.2500</td>\n",
              "      <td>S</td>\n",
              "    </tr>\n",
              "    <tr>\n",
              "      <th>1</th>\n",
              "      <td>1</td>\n",
              "      <td>1</td>\n",
              "      <td>female</td>\n",
              "      <td>38.0</td>\n",
              "      <td>1</td>\n",
              "      <td>0</td>\n",
              "      <td>71.2833</td>\n",
              "      <td>C</td>\n",
              "    </tr>\n",
              "    <tr>\n",
              "      <th>2</th>\n",
              "      <td>1</td>\n",
              "      <td>3</td>\n",
              "      <td>female</td>\n",
              "      <td>26.0</td>\n",
              "      <td>0</td>\n",
              "      <td>0</td>\n",
              "      <td>7.9250</td>\n",
              "      <td>S</td>\n",
              "    </tr>\n",
              "    <tr>\n",
              "      <th>3</th>\n",
              "      <td>1</td>\n",
              "      <td>1</td>\n",
              "      <td>female</td>\n",
              "      <td>35.0</td>\n",
              "      <td>1</td>\n",
              "      <td>0</td>\n",
              "      <td>53.1000</td>\n",
              "      <td>S</td>\n",
              "    </tr>\n",
              "    <tr>\n",
              "      <th>4</th>\n",
              "      <td>0</td>\n",
              "      <td>3</td>\n",
              "      <td>male</td>\n",
              "      <td>35.0</td>\n",
              "      <td>0</td>\n",
              "      <td>0</td>\n",
              "      <td>8.0500</td>\n",
              "      <td>S</td>\n",
              "    </tr>\n",
              "  </tbody>\n",
              "</table>\n",
              "</div>"
            ],
            "text/plain": [
              "   Survived  Pclass     Sex   Age  SibSp  Parch     Fare Embarked\n",
              "0         0       3    male  22.0      1      0   7.2500        S\n",
              "1         1       1  female  38.0      1      0  71.2833        C\n",
              "2         1       3  female  26.0      0      0   7.9250        S\n",
              "3         1       1  female  35.0      1      0  53.1000        S\n",
              "4         0       3    male  35.0      0      0   8.0500        S"
            ]
          },
          "execution_count": 80,
          "metadata": {},
          "output_type": "execute_result"
        }
      ],
      "source": [
        "clean_train.head()"
      ]
    },
    {
      "cell_type": "code",
      "execution_count": null,
      "id": "7cfd63ed",
      "metadata": {
        "id": "7cfd63ed",
        "outputId": "35b96252-f39a-4697-9afd-37f5ae4b480d"
      },
      "outputs": [
        {
          "data": {
            "text/plain": [
              "Survived    0\n",
              "Pclass      0\n",
              "Sex         0\n",
              "Age         0\n",
              "SibSp       0\n",
              "Parch       0\n",
              "Fare        0\n",
              "Embarked    0\n",
              "dtype: int64"
            ]
          },
          "execution_count": 81,
          "metadata": {},
          "output_type": "execute_result"
        }
      ],
      "source": [
        "#Checking for null values\n",
        "clean_train.isnull().sum()"
      ]
    },
    {
      "cell_type": "markdown",
      "id": "186a1d2a",
      "metadata": {
        "id": "186a1d2a"
      },
      "source": [
        "**Next, i will need to convert the categorical columns like \"Sex\" and \"Embarked\" into numeric variables by using Sklearn Label Encorder.**"
      ]
    },
    {
      "cell_type": "code",
      "execution_count": null,
      "id": "0801865a",
      "metadata": {
        "id": "0801865a",
        "outputId": "72ba5bf9-a17d-4662-ddf1-fccaee7d4971"
      },
      "outputs": [
        {
          "name": "stdout",
          "output_type": "stream",
          "text": [
            "['female' 'male']\n",
            "['C' 'Q' 'S' 'U']\n"
          ]
        },
        {
          "data": {
            "text/html": [
              "<div>\n",
              "<style scoped>\n",
              "    .dataframe tbody tr th:only-of-type {\n",
              "        vertical-align: middle;\n",
              "    }\n",
              "\n",
              "    .dataframe tbody tr th {\n",
              "        vertical-align: top;\n",
              "    }\n",
              "\n",
              "    .dataframe thead th {\n",
              "        text-align: right;\n",
              "    }\n",
              "</style>\n",
              "<table border=\"1\" class=\"dataframe\">\n",
              "  <thead>\n",
              "    <tr style=\"text-align: right;\">\n",
              "      <th></th>\n",
              "      <th>Survived</th>\n",
              "      <th>Pclass</th>\n",
              "      <th>Sex</th>\n",
              "      <th>Age</th>\n",
              "      <th>SibSp</th>\n",
              "      <th>Parch</th>\n",
              "      <th>Fare</th>\n",
              "      <th>Embarked</th>\n",
              "    </tr>\n",
              "  </thead>\n",
              "  <tbody>\n",
              "    <tr>\n",
              "      <th>0</th>\n",
              "      <td>0</td>\n",
              "      <td>3</td>\n",
              "      <td>1</td>\n",
              "      <td>22.0</td>\n",
              "      <td>1</td>\n",
              "      <td>0</td>\n",
              "      <td>7.2500</td>\n",
              "      <td>2</td>\n",
              "    </tr>\n",
              "    <tr>\n",
              "      <th>1</th>\n",
              "      <td>1</td>\n",
              "      <td>1</td>\n",
              "      <td>0</td>\n",
              "      <td>38.0</td>\n",
              "      <td>1</td>\n",
              "      <td>0</td>\n",
              "      <td>71.2833</td>\n",
              "      <td>0</td>\n",
              "    </tr>\n",
              "    <tr>\n",
              "      <th>2</th>\n",
              "      <td>1</td>\n",
              "      <td>3</td>\n",
              "      <td>0</td>\n",
              "      <td>26.0</td>\n",
              "      <td>0</td>\n",
              "      <td>0</td>\n",
              "      <td>7.9250</td>\n",
              "      <td>2</td>\n",
              "    </tr>\n",
              "    <tr>\n",
              "      <th>3</th>\n",
              "      <td>1</td>\n",
              "      <td>1</td>\n",
              "      <td>0</td>\n",
              "      <td>35.0</td>\n",
              "      <td>1</td>\n",
              "      <td>0</td>\n",
              "      <td>53.1000</td>\n",
              "      <td>2</td>\n",
              "    </tr>\n",
              "    <tr>\n",
              "      <th>4</th>\n",
              "      <td>0</td>\n",
              "      <td>3</td>\n",
              "      <td>1</td>\n",
              "      <td>35.0</td>\n",
              "      <td>0</td>\n",
              "      <td>0</td>\n",
              "      <td>8.0500</td>\n",
              "      <td>2</td>\n",
              "    </tr>\n",
              "  </tbody>\n",
              "</table>\n",
              "</div>"
            ],
            "text/plain": [
              "   Survived  Pclass  Sex   Age  SibSp  Parch     Fare  Embarked\n",
              "0         0       3    1  22.0      1      0   7.2500         2\n",
              "1         1       1    0  38.0      1      0  71.2833         0\n",
              "2         1       3    0  26.0      0      0   7.9250         2\n",
              "3         1       1    0  35.0      1      0  53.1000         2\n",
              "4         0       3    1  35.0      0      0   8.0500         2"
            ]
          },
          "execution_count": 82,
          "metadata": {},
          "output_type": "execute_result"
        }
      ],
      "source": [
        "from sklearn import preprocessing\n",
        "labEn = preprocessing.LabelEncoder()\n",
        "\n",
        "columns = [\"Sex\", \"Embarked\"]\n",
        "\n",
        "for col in columns:\n",
        "    clean_train[col] = labEn.fit_transform(clean_train[col])\n",
        "    clean_test[col] = labEn.transform(clean_test[col])\n",
        "    print(labEn.classes_)\n",
        "    \n",
        "clean_train.head()\n",
        "    \n"
      ]
    },
    {
      "cell_type": "markdown",
      "id": "e9d38d1c",
      "metadata": {
        "id": "e9d38d1c"
      },
      "source": [
        "From the above mapping in \"Sex\" column, \"female\" has be converted to zero and \"male\" is 1. Similarly in the \"Embarked\" column, \"C\" is now zero, \"Q\" is 1, \"S\" is 2 and \"U\" is 3."
      ]
    },
    {
      "cell_type": "markdown",
      "id": "b5d9f83c",
      "metadata": {
        "id": "b5d9f83c"
      },
      "source": [
        "## Predictive Model"
      ]
    },
    {
      "cell_type": "code",
      "execution_count": null,
      "id": "69c8a066",
      "metadata": {
        "id": "69c8a066"
      },
      "outputs": [],
      "source": [
        "from sklearn.linear_model import LogisticRegression\n",
        "from sklearn.model_selection import train_test_split\n",
        "\n",
        "y=clean_train[\"Survived\"]\n",
        "X=clean_train.drop([\"Survived\"], axis=1)\n",
        "\n",
        "X_train, X_val, y_train, y_val = train_test_split(X, y, test_size=0.3, random_state=2)\n"
      ]
    },
    {
      "cell_type": "code",
      "execution_count": null,
      "id": "40f042e7",
      "metadata": {
        "id": "40f042e7"
      },
      "outputs": [],
      "source": [
        "cls = LogisticRegression(random_state=0, max_iter=1000).fit(X_train, y_train)"
      ]
    },
    {
      "cell_type": "code",
      "execution_count": null,
      "id": "aece425b",
      "metadata": {
        "id": "aece425b",
        "outputId": "f64bc89c-f7cc-4022-c0f3-126aca1b83a4"
      },
      "outputs": [
        {
          "name": "stdout",
          "output_type": "stream",
          "text": [
            "79%\n"
          ]
        }
      ],
      "source": [
        "predictions = cls.predict(X_val)\n",
        "from sklearn.metrics import accuracy_score\n",
        "acc = accuracy_score(y_val, predictions)*100\n",
        "print(str(round(acc)) + '%')"
      ]
    },
    {
      "cell_type": "code",
      "execution_count": null,
      "id": "cc469037",
      "metadata": {
        "id": "cc469037",
        "outputId": "cc9cd74e-8d9a-43ec-fa7c-f39666a0c9fd"
      },
      "outputs": [
        {
          "data": {
            "text/plain": [
              "array([0, 0, 0, 0, 1, 0, 1, 0, 1, 0, 0, 0, 1, 0, 1, 1, 0, 0, 1, 1, 0, 0,\n",
              "       1, 1, 1, 0, 1, 0, 0, 0, 0, 0, 0, 0, 0, 0, 1, 1, 0, 0, 0, 0, 0, 1,\n",
              "       1, 0, 0, 0, 1, 0, 0, 0, 1, 1, 0, 0, 0, 0, 0, 1, 0, 0, 0, 1, 1, 1,\n",
              "       1, 0, 1, 1, 1, 0, 1, 1, 1, 1, 0, 1, 0, 1, 0, 0, 0, 0, 0, 0, 1, 1,\n",
              "       1, 0, 1, 0, 1, 0, 1, 0, 1, 0, 1, 0, 1, 0, 0, 0, 1, 0, 0, 0, 0, 0,\n",
              "       0, 1, 1, 1, 1, 0, 0, 1, 1, 1, 1, 0, 1, 0, 0, 1, 0, 0, 0, 0, 0, 0,\n",
              "       1, 0, 0, 0, 0, 0, 1, 0, 0, 1, 0, 0, 0, 0, 0, 0, 0, 0, 1, 0, 0, 0,\n",
              "       0, 0, 1, 1, 0, 1, 1, 0, 1, 0, 0, 1, 0, 0, 1, 1, 0, 0, 0, 0, 0, 1,\n",
              "       1, 0, 1, 1, 0, 0, 1, 0, 1, 0, 1, 0, 0, 0, 0, 0, 0, 0, 0, 0, 1, 1,\n",
              "       0, 1, 1, 0, 0, 1, 0, 1, 1, 0, 1, 0, 0, 0, 0, 0, 0, 0, 1, 0, 1, 0,\n",
              "       1, 0, 1, 0, 1, 1, 0, 1, 0, 0, 0, 1, 0, 0, 0, 0, 0, 0, 1, 1, 1, 1,\n",
              "       0, 0, 0, 0, 1, 0, 1, 1, 1, 0, 1, 0, 0, 0, 0, 0, 1, 0, 0, 0, 1, 1,\n",
              "       0, 0, 0, 0, 1, 0, 0, 0, 1, 1, 0, 1, 0, 0, 0, 0, 1, 0, 1, 1, 1, 0,\n",
              "       0, 0, 0, 0, 0, 1, 0, 0, 0, 0, 1, 0, 0, 0, 0, 0, 0, 0, 1, 1, 0, 0,\n",
              "       0, 0, 0, 0, 0, 1, 1, 1, 0, 0, 0, 0, 0, 0, 0, 0, 1, 0, 1, 0, 0, 0,\n",
              "       1, 0, 0, 1, 0, 0, 0, 0, 0, 0, 0, 0, 0, 1, 0, 1, 0, 1, 0, 1, 1, 0,\n",
              "       0, 0, 1, 0, 1, 0, 0, 0, 0, 1, 1, 0, 1, 0, 0, 1, 1, 0, 0, 1, 0, 0,\n",
              "       1, 1, 0, 0, 0, 0, 0, 0, 1, 1, 0, 1, 0, 0, 0, 0, 1, 1, 0, 0, 0, 1,\n",
              "       0, 1, 0, 0, 1, 0, 1, 1, 0, 0, 0, 0, 1, 1, 1, 1, 1, 0, 1, 0, 0, 0],\n",
              "      dtype=int64)"
            ]
          },
          "execution_count": 86,
          "metadata": {},
          "output_type": "execute_result"
        }
      ],
      "source": [
        "submission_prediction = cls.predict(clean_test)\n",
        "submission_prediction"
      ]
    },
    {
      "cell_type": "code",
      "execution_count": null,
      "id": "c8ae4ddd",
      "metadata": {
        "id": "c8ae4ddd"
      },
      "outputs": [],
      "source": [
        "#I will now convert the submission into a dataframe.\n",
        "df = pd.DataFrame({\"PassengerId\":test_ids.values,\n",
        "                      \"Survived\":submission_prediction})"
      ]
    },
    {
      "cell_type": "code",
      "execution_count": null,
      "id": "bb991c04",
      "metadata": {
        "id": "bb991c04"
      },
      "outputs": [],
      "source": [
        "df.to_csv(\"titanic_second_submission2.csv\", index = False)"
      ]
    },
    {
      "cell_type": "code",
      "execution_count": null,
      "id": "fb1e4cb8-22d2-4d79-a4ac-7a3cf09dc085",
      "metadata": {
        "id": "fb1e4cb8-22d2-4d79-a4ac-7a3cf09dc085"
      },
      "outputs": [],
      "source": [
        "df"
      ]
    },
    {
      "cell_type": "markdown",
      "id": "a36c8088",
      "metadata": {
        "id": "a36c8088"
      },
      "source": [
        "## My Kaggle submission scored 77% accuracy score as aginst the 79% scored above. "
      ]
    },
    {
      "cell_type": "code",
      "execution_count": null,
      "id": "cd3ab8fe",
      "metadata": {
        "id": "cd3ab8fe"
      },
      "outputs": [],
      "source": [
        ""
      ]
    }
  ],
  "metadata": {
    "kernelspec": {
      "display_name": "Python 3 (ipykernel)",
      "language": "python",
      "name": "python3"
    },
    "language_info": {
      "codemirror_mode": {
        "name": "ipython",
        "version": 3
      },
      "file_extension": ".py",
      "mimetype": "text/x-python",
      "name": "python",
      "nbconvert_exporter": "python",
      "pygments_lexer": "ipython3",
      "version": "3.8.12"
    },
    "colab": {
      "name": "Titanic Second Submission.ipynb",
      "provenance": [],
      "include_colab_link": true
    }
  },
  "nbformat": 4,
  "nbformat_minor": 5
}